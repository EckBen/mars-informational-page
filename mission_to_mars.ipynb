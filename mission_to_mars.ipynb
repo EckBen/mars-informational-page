{
 "cells": [
  {
   "cell_type": "code",
   "execution_count": 15,
   "metadata": {},
   "outputs": [],
   "source": [
    "# Import dependencies\n",
    "import pandas as pd\n",
    "import requests\n",
    "import time\n",
    "from bs4 import BeautifulSoup\n",
    "from splinter import Browser"
   ]
  },
  {
   "cell_type": "code",
   "execution_count": 16,
   "metadata": {},
   "outputs": [],
   "source": [
    "# URLs for use\n",
    "urls = {\n",
    "    'news':'https://mars.nasa.gov/news/?page=0&per_page=40&order=publish_date+desc%2Ccreated_at+desc&search=&category=19%2C165%2C184%2C204&blank_scope=Latest',\n",
    "    'jpl_img':'https://www.jpl.nasa.gov/spaceimages/?search=&category=Mars',\n",
    "    'weather':'https://twitter.com/marswxreport?lang=en',\n",
    "    'facts':'https://space-facts.com/mars/',\n",
    "    'hemi':'https://astrogeology.usgs.gov/search/results?q=hemisphere+enhanced&k1=target&v1=Mars'\n",
    "}\n",
    "\n",
    "# Ready to recieve soups\n",
    "soup = {}"
   ]
  },
  {
   "cell_type": "code",
   "execution_count": 17,
   "metadata": {},
   "outputs": [],
   "source": [
    "# Get browser ready\n",
    "browser = Browser(\"chrome\", headless=True)\n",
    "\n",
    "# Navigates to URL and calls for soup to be made\n",
    "def make_soup(url):\n",
    "    browser.visit(url)\n",
    "    \n",
    "    if url == urls['jpl_img']:\n",
    "        browser.click_link_by_id('full_image')\n",
    "    \n",
    "    soup = souper()\n",
    "    return soup\n",
    " \n",
    "# Makes soup\n",
    "def souper():\n",
    "    time.sleep(1)\n",
    "    html = browser.html\n",
    "    soup = BeautifulSoup(html, 'html.parser')\n",
    "    return soup\n",
    "\n",
    "# Retrieves hemisphere image URLs\n",
    "def hemi_imgs(url_list):\n",
    "    full_res_urls = [] \n",
    "    \n",
    "    for item in url_list:\n",
    "        blank_dict = {}\n",
    "        browser.visit(item['img_url'])\n",
    "        new_soup = souper()\n",
    "        partial_url = new_soup.find('img', class_='wide-image')['src']\n",
    "        full_url = 'https://astrogeology.usgs.gov' + partial_url\n",
    "        blank_dict['title'] = item['title']\n",
    "        blank_dict['img_url'] = full_url\n",
    "        full_res_urls.append(blank_dict)\n",
    "        \n",
    "    return full_res_urls"
   ]
  },
  {
   "cell_type": "code",
   "execution_count": 18,
   "metadata": {},
   "outputs": [
    {
     "name": "stdout",
     "output_type": "stream",
     "text": [
      "5\n"
     ]
    }
   ],
   "source": [
    "# Get soup objects from URLs\n",
    "for url_name, url in urls.items():\n",
    "    soup[url_name] = make_soup(url)\n",
    "print(len(soup.items()))"
   ]
  },
  {
   "cell_type": "code",
   "execution_count": 19,
   "metadata": {},
   "outputs": [
    {
     "name": "stdout",
     "output_type": "stream",
     "text": [
      "{'news_title': 'NASA Social Media and Websites Win Webby Awards ', 'news_text': 'NASA\\'s social media presence, the InSight mission social media accounts, NASA.gov and SolarSystem.NASA.gov will be honored at the 2019 Webby Awards - \"the Oscars of the Internet.\"'}\n"
     ]
    }
   ],
   "source": [
    "# Get latest News Title and Paragraph Text \n",
    "news_dict = {}\n",
    "news_dict['news_title'] = soup['news'].find('div',class_=\"content_title\").get_text()\n",
    "news_dict['news_text'] = soup['news'].find('div',class_=\"article_teaser_body\").get_text()\n",
    "print(news_dict)"
   ]
  },
  {
   "cell_type": "code",
   "execution_count": 20,
   "metadata": {},
   "outputs": [
    {
     "name": "stdout",
     "output_type": "stream",
     "text": [
      "https://www.jpl.nasa.gov/spaceimages/images/mediumsize/PIA14944_ip.jpg\n"
     ]
    }
   ],
   "source": [
    "# Get featured image URL\n",
    "partial_image_url = soup['jpl_img'].find('img', class_='fancybox-image')['src']\n",
    "featured_image_url = 'https://www.jpl.nasa.gov' + partial_image_url\n",
    "print(featured_image_url)"
   ]
  },
  {
   "cell_type": "code",
   "execution_count": 21,
   "metadata": {},
   "outputs": [
    {
     "name": "stdout",
     "output_type": "stream",
     "text": [
      "InSight sol 149 (2019-04-28) low -98.8ºC (-145.8ºF) high -19.5ºC (-3.0ºF)\n",
      "winds from the SW at 4.6 m/s (10.2 mph) gusting to 14.2 m/s (31.7 mph)\n",
      "pressure at 7.40 hPapic.twitter.com/IaUxdVEgb7\n"
     ]
    }
   ],
   "source": [
    "# Get latest Mars Weather data from latest post\n",
    "mars_weather = soup['weather'].find('p', class_='tweet-text').get_text()\n",
    "print(mars_weather)"
   ]
  },
  {
   "cell_type": "code",
   "execution_count": 44,
   "metadata": {},
   "outputs": [
    {
     "name": "stdout",
     "output_type": "stream",
     "text": [
      "<table border=\"1\" class=\"dataframe\">\n",
      "  <thead>\n",
      "    <tr style=\"text-align: right;\">\n",
      "      <th>Description</th>\n",
      "      <th>Value</th>\n",
      "    </tr>\n",
      "  </thead>\n",
      "  <tbody>\n",
      "    <tr>\n",
      "      <td>Equatorial Diameter:</td>\n",
      "      <td>6,792 km</td>\n",
      "    </tr>\n",
      "    <tr>\n",
      "      <td>Polar Diameter:</td>\n",
      "      <td>6,752 km</td>\n",
      "    </tr>\n",
      "    <tr>\n",
      "      <td>Mass:</td>\n",
      "      <td>6.42 x 10^23 kg (10.7% Earth)</td>\n",
      "    </tr>\n",
      "    <tr>\n",
      "      <td>Moons:</td>\n",
      "      <td>2 (Phobos &amp; Deimos)</td>\n",
      "    </tr>\n",
      "    <tr>\n",
      "      <td>Orbit Distance:</td>\n",
      "      <td>227,943,824 km (1.52 AU)</td>\n",
      "    </tr>\n",
      "    <tr>\n",
      "      <td>Orbit Period:</td>\n",
      "      <td>687 days (1.9 years)</td>\n",
      "    </tr>\n",
      "    <tr>\n",
      "      <td>Surface Temperature:</td>\n",
      "      <td>-153 to 20 °C</td>\n",
      "    </tr>\n",
      "    <tr>\n",
      "      <td>First Record:</td>\n",
      "      <td>2nd millennium BC</td>\n",
      "    </tr>\n",
      "    <tr>\n",
      "      <td>Recorded By:</td>\n",
      "      <td>Egyptian astronomers</td>\n",
      "    </tr>\n",
      "  </tbody>\n",
      "</table>\n"
     ]
    }
   ],
   "source": [
    "# Get HTML table string from site\n",
    "facts_df = pd.read_html('https://space-facts.com/mars/')[0]\n",
    "facts_df.columns = ['Description', 'Value']\n",
    "facts_table_html = facts_df.to_html(index=False)\n",
    "print(facts_table_html)"
   ]
  },
  {
   "cell_type": "code",
   "execution_count": 39,
   "metadata": {},
   "outputs": [
    {
     "name": "stdout",
     "output_type": "stream",
     "text": [
      "[{'title': 'Cerberus Hemisphere Enhanced', 'img_url': 'https://astrogeology.usgs.gov/cache/images/cfa62af2557222a02478f1fcd781d445_cerberus_enhanced.tif_full.jpg'}, {'title': 'Schiaparelli Hemisphere Enhanced', 'img_url': 'https://astrogeology.usgs.gov/cache/images/3cdd1cbf5e0813bba925c9030d13b62e_schiaparelli_enhanced.tif_full.jpg'}, {'title': 'Syrtis Major Hemisphere Enhanced', 'img_url': 'https://astrogeology.usgs.gov/cache/images/ae209b4e408bb6c3e67b6af38168cf28_syrtis_major_enhanced.tif_full.jpg'}, {'title': 'Valles Marineris Hemisphere Enhanced', 'img_url': 'https://astrogeology.usgs.gov/cache/images/7cf2da4bf549ed01c17f206327be4db7_valles_marineris_enhanced.tif_full.jpg'}]\n"
     ]
    }
   ],
   "source": [
    "# Get title and URL data for links to pages with full res images\n",
    "hemi_url_list = []\n",
    "\n",
    "head_tags = soup['hemi'].find_all('h3')\n",
    "\n",
    "title_texts = []\n",
    "for tag in head_tags:\n",
    "    title_texts.append(tag.get_text())\n",
    "\n",
    "# Handle potential 404 error from target site\n",
    "try:\n",
    "    # Loop through URLs for each full res image\n",
    "    for x in range(4):\n",
    "        blank_dict = {}\n",
    "        partial_hemi_url = head_tags[x].find_parent('a')['href']\n",
    "        full_hemi_url = 'https://astrogeology.usgs.gov' + partial_hemi_url\n",
    "        blank_dict['title'] = title_texts[x]\n",
    "        blank_dict['img_url'] = full_hemi_url\n",
    "        hemi_url_list.append(blank_dict)\n",
    "\n",
    "    # Call for full res image URLs\n",
    "    hemisphere_image_urls = hemi_imgs(hemi_url_list)\n",
    "    print(hemisphere_image_urls)\n",
    "\n",
    "except IndexError:\n",
    "    print(\"No links to full resolution images were found. Most likely 404 Error on target website.\")\n",
    "    hemisphere_image_urls = {}"
   ]
  },
  {
   "cell_type": "code",
   "execution_count": 45,
   "metadata": {},
   "outputs": [
    {
     "name": "stdout",
     "output_type": "stream",
     "text": [
      "{'news': {'news_title': 'NASA Social Media and Websites Win Webby Awards ', 'news_text': 'NASA\\'s social media presence, the InSight mission social media accounts, NASA.gov and SolarSystem.NASA.gov will be honored at the 2019 Webby Awards - \"the Oscars of the Internet.\"'}, 'jpl_img': 'https://www.jpl.nasa.gov/spaceimages/images/mediumsize/PIA14944_ip.jpg', 'weather': 'InSight sol 149 (2019-04-28) low -98.8ºC (-145.8ºF) high -19.5ºC (-3.0ºF)\\nwinds from the SW at 4.6 m/s (10.2 mph) gusting to 14.2 m/s (31.7 mph)\\npressure at 7.40 hPapic.twitter.com/IaUxdVEgb7', 'facts': '<table border=\"1\" class=\"dataframe\">\\n  <thead>\\n    <tr style=\"text-align: right;\">\\n      <th>Description</th>\\n      <th>Value</th>\\n    </tr>\\n  </thead>\\n  <tbody>\\n    <tr>\\n      <td>Equatorial Diameter:</td>\\n      <td>6,792 km</td>\\n    </tr>\\n    <tr>\\n      <td>Polar Diameter:</td>\\n      <td>6,752 km</td>\\n    </tr>\\n    <tr>\\n      <td>Mass:</td>\\n      <td>6.42 x 10^23 kg (10.7% Earth)</td>\\n    </tr>\\n    <tr>\\n      <td>Moons:</td>\\n      <td>2 (Phobos &amp; Deimos)</td>\\n    </tr>\\n    <tr>\\n      <td>Orbit Distance:</td>\\n      <td>227,943,824 km (1.52 AU)</td>\\n    </tr>\\n    <tr>\\n      <td>Orbit Period:</td>\\n      <td>687 days (1.9 years)</td>\\n    </tr>\\n    <tr>\\n      <td>Surface Temperature:</td>\\n      <td>-153 to 20 °C</td>\\n    </tr>\\n    <tr>\\n      <td>First Record:</td>\\n      <td>2nd millennium BC</td>\\n    </tr>\\n    <tr>\\n      <td>Recorded By:</td>\\n      <td>Egyptian astronomers</td>\\n    </tr>\\n  </tbody>\\n</table>', 'hemi': [{'title': 'Cerberus Hemisphere Enhanced', 'img_url': 'https://astrogeology.usgs.gov/cache/images/cfa62af2557222a02478f1fcd781d445_cerberus_enhanced.tif_full.jpg'}, {'title': 'Schiaparelli Hemisphere Enhanced', 'img_url': 'https://astrogeology.usgs.gov/cache/images/3cdd1cbf5e0813bba925c9030d13b62e_schiaparelli_enhanced.tif_full.jpg'}, {'title': 'Syrtis Major Hemisphere Enhanced', 'img_url': 'https://astrogeology.usgs.gov/cache/images/ae209b4e408bb6c3e67b6af38168cf28_syrtis_major_enhanced.tif_full.jpg'}, {'title': 'Valles Marineris Hemisphere Enhanced', 'img_url': 'https://astrogeology.usgs.gov/cache/images/7cf2da4bf549ed01c17f206327be4db7_valles_marineris_enhanced.tif_full.jpg'}]}\n"
     ]
    }
   ],
   "source": [
    "# Create final dictionary\n",
    "scraped_data = {\n",
    "    'news': news_dict,\n",
    "    'jpl_img': featured_image_url,\n",
    "    'weather': mars_weather,\n",
    "    'facts': facts_table_html,\n",
    "    'hemi': hemisphere_image_urls\n",
    "}\n",
    "print(scraped_data)"
   ]
  },
  {
   "cell_type": "code",
   "execution_count": null,
   "metadata": {},
   "outputs": [],
   "source": []
  }
 ],
 "metadata": {
  "kernelspec": {
   "display_name": "Python (PythonData)",
   "language": "python",
   "name": "pythondata"
  },
  "language_info": {
   "codemirror_mode": {
    "name": "ipython",
    "version": 3
   },
   "file_extension": ".py",
   "mimetype": "text/x-python",
   "name": "python",
   "nbconvert_exporter": "python",
   "pygments_lexer": "ipython3",
   "version": "3.7.1"
  }
 },
 "nbformat": 4,
 "nbformat_minor": 2
}
